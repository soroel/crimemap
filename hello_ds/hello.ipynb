{
 "cells": [
  {
   "cell_type": "code",
   "execution_count": 13,
   "metadata": {},
   "outputs": [],
   "source": [
    "import pandas as pd\n",
    "import numpy as np\n",
    "df1 = pd.read_csv('crimedata.csv')"
   ]
  },
  {
   "cell_type": "code",
   "execution_count": 14,
   "metadata": {},
   "outputs": [],
   "source": [
    "# Drop unnecessary columns\n",
    "df1 = df1.drop(['Unnamed: 14', 'Unnamed: 15'], axis=1)\n",
    "\n"
   ]
  },
  {
   "cell_type": "code",
   "execution_count": 17,
   "metadata": {},
   "outputs": [
    {
     "name": "stdout",
     "output_type": "stream",
     "text": [
      "<class 'pandas.core.frame.DataFrame'>\n",
      "RangeIndex: 31 entries, 0 to 30\n",
      "Data columns (total 14 columns):\n",
      " #   Column           Non-Null Count  Dtype  \n",
      "---  ------           --------------  -----  \n",
      " 0   S/NO             18 non-null     float64\n",
      " 1   OFFENCES (TYPE)  18 non-null     object \n",
      " 2   2010             18 non-null     float64\n",
      " 3   2011             18 non-null     float64\n",
      " 4   2012             19 non-null     object \n",
      " 5   2013             18 non-null     float64\n",
      " 6   2014             18 non-null     float64\n",
      " 7   2015             18 non-null     float64\n",
      " 8   2016             18 non-null     float64\n",
      " 9   2017             18 non-null     float64\n",
      " 10  2018             18 non-null     float64\n",
      " 11  2019             18 non-null     float64\n",
      " 12  2020             18 non-null     float64\n",
      " 13  TOTAL            18 non-null     float64\n",
      "dtypes: float64(12), object(2)\n",
      "memory usage: 3.5+ KB\n"
     ]
    }
   ],
   "source": [
    "df1.shape\n",
    "df1.head()\n",
    "df1.info()"
   ]
  },
  {
   "cell_type": "code",
   "execution_count": 18,
   "metadata": {},
   "outputs": [
    {
     "data": {
      "text/plain": [
       "S/NO               13\n",
       "OFFENCES (TYPE)    13\n",
       "2010               13\n",
       "2011               13\n",
       "2012               12\n",
       "2013               13\n",
       "2014               13\n",
       "2015               13\n",
       "2016               13\n",
       "2017               13\n",
       "2018               13\n",
       "2019               13\n",
       "2020               13\n",
       "TOTAL              13\n",
       "dtype: int64"
      ]
     },
     "execution_count": 18,
     "metadata": {},
     "output_type": "execute_result"
    }
   ],
   "source": [
    "# Check for missing values\n",
    "df1.isnull().sum()\n",
    "\n"
   ]
  },
  {
   "cell_type": "code",
   "execution_count": 19,
   "metadata": {},
   "outputs": [],
   "source": [
    "# Drop null values from df1\n",
    "\n",
    "df1.dropna(inplace=True)"
   ]
  },
  {
   "cell_type": "code",
   "execution_count": 21,
   "metadata": {},
   "outputs": [
    {
     "data": {
      "text/html": [
       "<div>\n",
       "<style scoped>\n",
       "    .dataframe tbody tr th:only-of-type {\n",
       "        vertical-align: middle;\n",
       "    }\n",
       "\n",
       "    .dataframe tbody tr th {\n",
       "        vertical-align: top;\n",
       "    }\n",
       "\n",
       "    .dataframe thead th {\n",
       "        text-align: right;\n",
       "    }\n",
       "</style>\n",
       "<table border=\"1\" class=\"dataframe\">\n",
       "  <thead>\n",
       "    <tr style=\"text-align: right;\">\n",
       "      <th></th>\n",
       "      <th>S/NO</th>\n",
       "      <th>OFFENCES (TYPE)</th>\n",
       "      <th>2010</th>\n",
       "      <th>2011</th>\n",
       "      <th>2012</th>\n",
       "      <th>2013</th>\n",
       "      <th>2014</th>\n",
       "      <th>2015</th>\n",
       "      <th>2016</th>\n",
       "      <th>2017</th>\n",
       "      <th>2018</th>\n",
       "      <th>2019</th>\n",
       "      <th>2020</th>\n",
       "      <th>TOTAL</th>\n",
       "    </tr>\n",
       "  </thead>\n",
       "  <tbody>\n",
       "    <tr>\n",
       "      <th>0</th>\n",
       "      <td>1.0</td>\n",
       "      <td>Homicide</td>\n",
       "      <td>2239.0</td>\n",
       "      <td>2641.0</td>\n",
       "      <td>2761</td>\n",
       "      <td>2878.0</td>\n",
       "      <td>2649.0</td>\n",
       "      <td>2648.0</td>\n",
       "      <td>2751.0</td>\n",
       "      <td>2774.0</td>\n",
       "      <td>2856.0</td>\n",
       "      <td>2082.0</td>\n",
       "      <td>2786.0</td>\n",
       "      <td>26983.0</td>\n",
       "    </tr>\n",
       "    <tr>\n",
       "      <th>1</th>\n",
       "      <td>2.0</td>\n",
       "      <td>Offences against Morality</td>\n",
       "      <td>4817.0</td>\n",
       "      <td>4703.0</td>\n",
       "      <td>4086</td>\n",
       "      <td>4779.0</td>\n",
       "      <td>5184.0</td>\n",
       "      <td>6164.0</td>\n",
       "      <td>6228.0</td>\n",
       "      <td>5492.0</td>\n",
       "      <td>7233.0</td>\n",
       "      <td>8407.0</td>\n",
       "      <td>9153.0</td>\n",
       "      <td>57839.0</td>\n",
       "    </tr>\n",
       "    <tr>\n",
       "      <th>2</th>\n",
       "      <td>3.0</td>\n",
       "      <td>Other offences against person</td>\n",
       "      <td>20012.0</td>\n",
       "      <td>20144.0</td>\n",
       "      <td>20698</td>\n",
       "      <td>19344.0</td>\n",
       "      <td>19911.0</td>\n",
       "      <td>21174.0</td>\n",
       "      <td>22295.0</td>\n",
       "      <td>22515.0</td>\n",
       "      <td>25049.0</td>\n",
       "      <td>27089.0</td>\n",
       "      <td>19501.0</td>\n",
       "      <td>210643.0</td>\n",
       "    </tr>\n",
       "    <tr>\n",
       "      <th>3</th>\n",
       "      <td>4.0</td>\n",
       "      <td>Robbery</td>\n",
       "      <td>2843.0</td>\n",
       "      <td>3262.0</td>\n",
       "      <td>3262</td>\n",
       "      <td>3551.0</td>\n",
       "      <td>3011.0</td>\n",
       "      <td>2865.0</td>\n",
       "      <td>2697.0</td>\n",
       "      <td>2713.0</td>\n",
       "      <td>2935.0</td>\n",
       "      <td>2082.0</td>\n",
       "      <td>2089.0</td>\n",
       "      <td>29228.0</td>\n",
       "    </tr>\n",
       "    <tr>\n",
       "      <th>4</th>\n",
       "      <td>5.0</td>\n",
       "      <td>Breaking</td>\n",
       "      <td>6453.0</td>\n",
       "      <td>7325.0</td>\n",
       "      <td>7578</td>\n",
       "      <td>6397.0</td>\n",
       "      <td>5656.0</td>\n",
       "      <td>5591.0</td>\n",
       "      <td>5621.0</td>\n",
       "      <td>6131.0</td>\n",
       "      <td>5970.0</td>\n",
       "      <td>5605.0</td>\n",
       "      <td>4179.0</td>\n",
       "      <td>60901.0</td>\n",
       "    </tr>\n",
       "  </tbody>\n",
       "</table>\n",
       "</div>"
      ],
      "text/plain": [
       "   S/NO                OFFENCES (TYPE)     2010     2011   2012     2013  \\\n",
       "0   1.0                       Homicide   2239.0   2641.0   2761   2878.0   \n",
       "1   2.0      Offences against Morality   4817.0   4703.0   4086   4779.0   \n",
       "2   3.0  Other offences against person  20012.0  20144.0  20698  19344.0   \n",
       "3   4.0                        Robbery   2843.0   3262.0   3262   3551.0   \n",
       "4   5.0                       Breaking   6453.0   7325.0   7578   6397.0   \n",
       "\n",
       "      2014     2015     2016     2017     2018     2019     2020     TOTAL  \n",
       "0   2649.0   2648.0   2751.0   2774.0   2856.0   2082.0   2786.0   26983.0  \n",
       "1   5184.0   6164.0   6228.0   5492.0   7233.0   8407.0   9153.0   57839.0  \n",
       "2  19911.0  21174.0  22295.0  22515.0  25049.0  27089.0  19501.0  210643.0  \n",
       "3   3011.0   2865.0   2697.0   2713.0   2935.0   2082.0   2089.0   29228.0  \n",
       "4   5656.0   5591.0   5621.0   6131.0   5970.0   5605.0   4179.0   60901.0  "
      ]
     },
     "execution_count": 21,
     "metadata": {},
     "output_type": "execute_result"
    }
   ],
   "source": [
    "df1.head()\n"
   ]
  },
  {
   "cell_type": "code",
   "execution_count": 23,
   "metadata": {},
   "outputs": [
    {
     "data": {
      "text/plain": [
       "(18, 14)"
      ]
     },
     "execution_count": 23,
     "metadata": {},
     "output_type": "execute_result"
    }
   ],
   "source": [
    "df1.shape"
   ]
  },
  {
   "cell_type": "code",
   "execution_count": null,
   "metadata": {},
   "outputs": [],
   "source": []
  }
 ],
 "metadata": {
  "kernelspec": {
   "display_name": "myenv",
   "language": "python",
   "name": "python3"
  },
  "language_info": {
   "codemirror_mode": {
    "name": "ipython",
    "version": 3
   },
   "file_extension": ".py",
   "mimetype": "text/x-python",
   "name": "python",
   "nbconvert_exporter": "python",
   "pygments_lexer": "ipython3",
   "version": "3.10.13"
  }
 },
 "nbformat": 4,
 "nbformat_minor": 2
}
